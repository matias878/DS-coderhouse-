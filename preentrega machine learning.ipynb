# -*- coding: utf-8 -*-
"""
Created on Tue Jun 11 21:38:26 2024

@author: matias
"""

import pandas as pd
import numpy as np

import matplotlib.pyplot as plt



df1=pd.read_excel("demanda _ potencia.xlsx", sheet_name="demanda 2017-2020")
df2=pd.read_excel("demanda _ potencia.xlsx", sheet_name="potencia_instalada")
df1=df1.replace({-1:1})
df1.dtypes
df1['demanda_MWh'] = pd.to_numeric( df1['demanda_MWh'], errors='coerce')
df1.dtypes 
df2['potencia_instalada_mw'] = pd.to_numeric( df2['potencia_instalada_mw'], errors='coerce')
#el dataset dtype da "objet" para la columna de demanda asique
# se cambia a flotante para poder hacer calculos


# El primer grafico va a ser el promedio de la demanda de energia de todas las
#regiones desde enero 2017 hasta febrero 2020
#para esto se define una funcion que reciba el dataframe y una region y me 
#devuelva un dupla con la region y el promedio de su demanda, y apartir de esa
#se define otra que reciba todo el dataframe y que vaya por region calculando  
#promedio y devuelva una lista con las tuplas region- demanda 
def demanda_region(df, region):  #esta funcion me va calcular la demanda  
    df_1= df.loc[ region ]
    #print(df1['demanda_MWh'] )
    promedio = np.mean( df_1['demanda_MWh'] )
    return ( [region, promedio] )

def promedio_region(df):
    regiones=set(df['region'])
    df.index=df['region']
    demanda=[]    
    for n in regiones:
        a = demanda_region(df, n)
        demanda.append(a)
    return (demanda)

dem_region =pd.DataFrame(promedio_region(df1), columns=['region','demanda_MWh'])

x1 = dem_region['region']
y1 = dem_region['demanda_MWh']
plt.figure()
plt.bar(x1,y1)
plt.title('promedio por region')

# el segundo grafico va a dar el consumo promedio pero por categoria_tarifa
# para saber cual es la categoria mas demandante en general. 
def demanda_categoria( df, categoria) :
    df.index = df[ 'categoria_tarifa' ]
    df1 = df.loc[categoria]
    #print( df1['demanda_MWh'] )
    promedio = np.mean( df1['demanda_MWh'] )
    return ( [categoria, promedio] )

def promedio_categoria(df) :
    categorias = set(df['categoria_tarifa'])
    df.index = df['categoria_tarifa']
    demanda = []    
    for n in categorias:
        a = demanda_categoria(df, n)
        demanda.append(a)
    return (demanda)

dem_cat=pd.DataFrame(promedio_categoria(df1), columns=['categoria','demanda_MWh'])            
            
x2 = dem_cat['categoria']    
y2 = dem_cat['demanda_MWh']


plt.figure()        
plt.pie(y2,labels=x2 )
plt.title('porcentual categoria')


df1.index= range( len(df1['indice_tiempo']))
df2020 = df1[ df1['anio']==2020 ]   
df_cuyo= df1[ df1['region'] =='CUYO' ]

#para los graficos en seaborn pense en aprovechar el indice de tiempo
#pero me encontre con muchos inconvenientes la mayoria los pude solucinar
#sns.histplot( df2020, x='indice_tiempo', hue='region' ) 
