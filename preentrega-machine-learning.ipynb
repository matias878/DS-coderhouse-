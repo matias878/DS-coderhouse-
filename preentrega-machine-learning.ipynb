{
  "nbformat": 4,
  "nbformat_minor": 0,
  "metadata": {
    "colab": {
      "provenance": [],
      "authorship_tag": "ABX9TyO5O+RJhq3iybBSYSYNekpD",
      "include_colab_link": true
    },
    "kernelspec": {
      "name": "python3",
      "display_name": "Python 3"
    },
    "language_info": {
      "name": "python"
    }
  },
  "cells": [
    {
      "cell_type": "markdown",
      "metadata": {
        "id": "view-in-github",
        "colab_type": "text"
      },
      "source": [
        "<a href=\"https://colab.research.google.com/github/matias878/DS-coderhouse-/blob/main/preentrega-machine-learning.ipynb\" target=\"_parent\"><img src=\"https://colab.research.google.com/assets/colab-badge.svg\" alt=\"Open In Colab\"/></a>"
      ]
    },
    {
      "cell_type": "code",
      "execution_count": null,
      "metadata": {
        "id": "R6TuNV0jU7E7"
      },
      "outputs": [],
      "source": [
        "\n",
        "import pandas as pd\n",
        "import numpy as np\n",
        "import matplotlib.pyplot as plt\n",
        "\n",
        "\n",
        "\n",
        "df1=pd.read_excel(\"demanda _ potencia.xlsx\", sheet_name=\"demanda 2017-2020\")\n",
        "df2=pd.read_excel(\"demanda _ potencia.xlsx\", sheet_name=\"potencia_instalada\")\n",
        "df1=df1.replace({-1:1})\n",
        "df1.dtypes\n",
        "df1['demanda_MWh'] = pd.to_numeric( df1['demanda_MWh'], errors='coerce')\n",
        "df1.dtypes\n",
        "#el dataframe de demanda cuando se le aplica dtype da \"objet\" para la columna de demanda asique se cambia a flotante para poder hacer calculos\n",
        "df2['potencia_instalada_mw'] = pd.to_numeric( df2['potencia_instalada_mw'], errors='coerce')\n",
        "df2=df2[df2['anio']>2016]\n",
        "#igualmente con el dataframe de potencia y ademas se eliminan las filas de mas"
      ]
    },
    {
      "cell_type": "code",
      "source": [
        "def demanda_region(df, region):  #esta funcion me va calcular la demanda\n",
        "    df_1= df[df['region'] == region ]\n",
        "    #print(df1['demanda_MWh'] )\n",
        "    promedio = np.mean( df_1['demanda_MWh'] )\n",
        "    return ( [region, promedio] )\n",
        "\n",
        "def promedio_region(df):\n",
        "    regiones=set(df['region'])\n",
        "    demanda=[]\n",
        "    for n in regiones:\n",
        "        a = demanda_region(df, n)\n",
        "        demanda.append(a)\n",
        "    return (demanda)\n",
        "\n",
        "\n",
        "dem_region =pd.DataFrame(promedio_region(df1), columns=['region','demanda_MWh'])\n",
        "\n",
        "x1 = dem_region['region']\n",
        "y1 = dem_region['demanda_MWh']\n",
        "plt.figure()\n",
        "plt.bar(x1,y1)\n",
        "plt.title('demanda promedio por region')"
      ],
      "metadata": {
        "id": "qbAAVpnsV5aa"
      },
      "execution_count": null,
      "outputs": []
    },
    {
      "cell_type": "code",
      "source": [
        "\n",
        "def potencia_region(df,region):\n",
        "    df_1 = df[(df['region'] == region)]\n",
        "    #print(df1['demanda_MWh'] )\n",
        "    promedio = np.mean( df_1['potencia_instalada_mw'] )\n",
        "    return ( [region, promedio] )\n",
        "\n",
        "\n",
        "def promedio_pot(df):\n",
        "    regiones= set(df['region'])\n",
        "    potencia=[]\n",
        "    for n in regiones:\n",
        "        a= potencia_region(df, n)\n",
        "        potencia.append(a)\n",
        "    return ( potencia)\n",
        "\n",
        "\n",
        "\n",
        "pot=pd.DataFrame(promedio_pot(df2), columns=['region', 'potencia_instalada'])\n",
        "\n",
        "\n",
        "x1 = pot['region']\n",
        "y1 = pot['potencia_instalada']\n",
        "plt.figure()\n",
        "plt.bar(x1,y1)\n",
        "plt.title('potencia_instalada promedio por region')\n",
        "\n"
      ],
      "metadata": {
        "id": "2USzB93eWy9o"
      },
      "execution_count": null,
      "outputs": []
    }
  ]
}